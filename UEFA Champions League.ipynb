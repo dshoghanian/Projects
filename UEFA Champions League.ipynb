{
 "cells": [
  {
   "cell_type": "markdown",
   "metadata": {
    "id": "yXb3VXKaIMx7"
   },
   "source": [
    "## Case Background\n",
    "The goal of this project is to conduct an in-depth analysis of the UEFA Champions League (UCL) using historical data from 1955 to 2023. By leveraging match performance and final results data, aiming to uncover patterns, trends, and insights that have shaped the tournament over the decades.\n",
    "\n",
    "## Data Description\n",
    "[The dataset here](https://www.kaggle.com/datasets/fardifaalam170041060/champions-league-dataset-1955-2023). It contains the following fields:\n",
    "\n",
    "All-Time Performance Dataset\n",
    "* **Team:** The team name\n",
    "* **M:** Number of matches played\n",
    "* **W:** Wins\n",
    "* **D:** Draws\n",
    "* **L:** Losses\n",
    "* **Goals:** Goals scored (and possibly goals conceded)\n",
    "* **Dif:** Goal difference (difference between goals scored and goals conceded)\n",
    "* **Pt:** Total points accumulated by the team\n",
    "\n",
    "UEFA Finals Dataset (1955-2023):\n",
    "* **Season:** The season of the final\n",
    "* **Country:** Country of the winning team\n",
    "* **Winners:** The team that won the final\n",
    "* **Score:** Final match score\n",
    "* **Runners-up:** The team that lost the final\n",
    "* **Venue:** Additional match details\n",
    "* **Attendance:** Additional match details\n",
    "* **Notes:** Additional match details"
   ]
  },
  {
   "cell_type": "markdown",
   "metadata": {},
   "source": [
    "## Data Cleaning"
   ]
  },
  {
   "cell_type": "code",
   "execution_count": 5,
   "metadata": {},
   "outputs": [],
   "source": [
    "import pandas as pd\n",
    "df = pd.read_csv('UCL_AllTime_Performance_Table.csv')\n",
    "df2 = pd.read_csv('UCL_Finals_1955-2023.csv') \n"
   ]
  },
  {
   "cell_type": "code",
   "execution_count": 7,
   "metadata": {},
   "outputs": [
    {
     "data": {
      "text/plain": [
       "Season         object\n",
       "Country        object\n",
       "Winners        object\n",
       "Score          object\n",
       "Runners-up     object\n",
       "Country.1      object\n",
       "Venue          object\n",
       "Attend­ance    object\n",
       "Notes          object\n",
       "dtype: object"
      ]
     },
     "execution_count": 7,
     "metadata": {},
     "output_type": "execute_result"
    }
   ],
   "source": [
    "df.head()\n",
    "df.dtypes\n",
    "df2.head()\n",
    "df2.dtypes"
   ]
  },
  {
   "cell_type": "code",
   "execution_count": 9,
   "metadata": {},
   "outputs": [
    {
     "data": {
      "text/plain": [
       "0"
      ]
     },
     "execution_count": 9,
     "metadata": {},
     "output_type": "execute_result"
    }
   ],
   "source": [
    "# Checking for duplicates\n",
    "df.duplicated().sum()\n",
    "df2.duplicated().sum()"
   ]
  },
  {
   "cell_type": "code",
   "execution_count": 11,
   "metadata": {},
   "outputs": [
    {
     "data": {
      "text/plain": [
       "Season          0\n",
       "Country         0\n",
       "Winners         0\n",
       "Score           0\n",
       "Runners-up      0\n",
       "Country.1       0\n",
       "Venue           0\n",
       "Attend­ance     0\n",
       "Notes          51\n",
       "dtype: int64"
      ]
     },
     "execution_count": 11,
     "metadata": {},
     "output_type": "execute_result"
    }
   ],
   "source": [
    "# Checking for missing values\n",
    "df.isnull().sum()\n",
    "\n",
    "# Checking for missing values\n",
    "df2.isnull().sum()\n"
   ]
  },
  {
   "cell_type": "code",
   "execution_count": 13,
   "metadata": {},
   "outputs": [],
   "source": [
    "# Renaming the columns \n",
    "df.columns = ['Rank', 'Team', 'Matches', 'Wins', 'Draws', 'Losses', 'Goals', 'Goal_Difference', 'Points']\n",
    "\n",
    "# Renaming the columns\n",
    "df2.columns = ['Season', 'Country', 'Winners', 'Score', 'Runners-up', 'Country_RunnersUp', 'Venue', 'Attendance', 'Notes']\n",
    "\n",
    "# Filling the missing values in rank in order\n",
    "df['Rank'] = range(1, len(df) + 1)"
   ]
  },
  {
   "cell_type": "code",
   "execution_count": 15,
   "metadata": {},
   "outputs": [
    {
     "data": {
      "text/plain": [
       "Rank               0\n",
       "Team               0\n",
       "Matches            0\n",
       "Wins               0\n",
       "Draws              0\n",
       "Losses             0\n",
       "Goals              0\n",
       "Goal_Difference    0\n",
       "Points             0\n",
       "dtype: int64"
      ]
     },
     "execution_count": 15,
     "metadata": {},
     "output_type": "execute_result"
    }
   ],
   "source": [
    "# Checking for the missing values again \n",
    "df.isnull().sum()"
   ]
  },
  {
   "cell_type": "code",
   "execution_count": 17,
   "metadata": {},
   "outputs": [],
   "source": [
    "# Split the \"Goals\" column into \"Goals_Scored\" and \"Goals_Conceded\"\n",
    "df[['Goals_Scored', 'Goals_Conceded']] = df['Goals'].str.split(':', n=1, expand=True)\n",
    "\n",
    "# Remove the trailing ':00' from 'Goals_Conceded'\n",
    "df['Goals_Conceded'] = df['Goals_Conceded'].str.split(':').str[0]\n",
    "\n",
    "# Converting to integer type\n",
    "df['Goals_Scored'] = df['Goals_Scored'].astype(int)\n",
    "df['Goals_Conceded'] = df['Goals_Conceded'].astype(int)\n",
    "\n",
    "# Dropping the original \"Goals\" column\n",
    "df.drop(columns=['Goals'], inplace=True)\n",
    "\n"
   ]
  },
  {
   "cell_type": "code",
   "execution_count": 19,
   "metadata": {},
   "outputs": [],
   "source": [
    "# Filling the missing values in Notes to indicate the game was finished in full-time\n",
    "df2['Notes'] = df2['Notes'].fillna('Match was won during full time')"
   ]
  },
  {
   "cell_type": "code",
   "execution_count": 21,
   "metadata": {},
   "outputs": [
    {
     "data": {
      "text/plain": [
       "Rank               0\n",
       "Team               0\n",
       "Matches            0\n",
       "Wins               0\n",
       "Draws              0\n",
       "Losses             0\n",
       "Goal_Difference    0\n",
       "Points             0\n",
       "Goals_Scored       0\n",
       "Goals_Conceded     0\n",
       "dtype: int64"
      ]
     },
     "execution_count": 21,
     "metadata": {},
     "output_type": "execute_result"
    }
   ],
   "source": [
    "# Checking for the missing values again \n",
    "df.isnull().sum()"
   ]
  },
  {
   "cell_type": "code",
   "execution_count": 23,
   "metadata": {},
   "outputs": [
    {
     "data": {
      "text/plain": [
       "0      38,239\n",
       "1     124,000\n",
       "2      67,000\n",
       "3      72,000\n",
       "4     127,621\n",
       "       ...   \n",
       "64     63,272\n",
       "65          0\n",
       "66     14,110\n",
       "67     75,000\n",
       "68     71,412\n",
       "Name: Attendance, Length: 69, dtype: object"
      ]
     },
     "execution_count": 23,
     "metadata": {},
     "output_type": "execute_result"
    }
   ],
   "source": [
    "df2.Attendance"
   ]
  },
  {
   "cell_type": "code",
   "execution_count": 612,
   "metadata": {},
   "outputs": [],
   "source": [
    "# Converting Attendance to numeric because its an object\n",
    "#df2.Attendance = pd.to_numeric(df2.Attendance, errors='coerce')\n",
    "\n",
    "# Checking for outliers in the attendance \n",
    "#df2[df2.Attendance == 0].shape[0]\n",
    "\n",
    "# Dropping row with 0 attendance\n",
    "#df2.Attendance = df2[df2.Attendance != 0]"
   ]
  },
  {
   "cell_type": "code",
   "execution_count": 476,
   "metadata": {},
   "outputs": [
    {
     "data": {
      "text/plain": [
       "1"
      ]
     },
     "execution_count": 476,
     "metadata": {},
     "output_type": "execute_result"
    }
   ],
   "source": [
    "# Checking to see if the row was dropped\n",
    "#df2[df2.Attendance == 0].shape[0]"
   ]
  },
  {
   "cell_type": "markdown",
   "metadata": {},
   "source": [
    "## Exploratory Data Analysis"
   ]
  },
  {
   "cell_type": "code",
   "execution_count": 25,
   "metadata": {},
   "outputs": [
    {
     "data": {
      "text/html": [
       "<div>\n",
       "<style scoped>\n",
       "    .dataframe tbody tr th:only-of-type {\n",
       "        vertical-align: middle;\n",
       "    }\n",
       "\n",
       "    .dataframe tbody tr th {\n",
       "        vertical-align: top;\n",
       "    }\n",
       "\n",
       "    .dataframe thead th {\n",
       "        text-align: right;\n",
       "    }\n",
       "</style>\n",
       "<table border=\"1\" class=\"dataframe\">\n",
       "  <thead>\n",
       "    <tr style=\"text-align: right;\">\n",
       "      <th></th>\n",
       "      <th>Rank</th>\n",
       "      <th>Matches</th>\n",
       "      <th>Wins</th>\n",
       "      <th>Draws</th>\n",
       "      <th>Losses</th>\n",
       "      <th>Goal_Difference</th>\n",
       "      <th>Points</th>\n",
       "      <th>Goals_Scored</th>\n",
       "      <th>Goals_Conceded</th>\n",
       "    </tr>\n",
       "  </thead>\n",
       "  <tbody>\n",
       "    <tr>\n",
       "      <th>count</th>\n",
       "      <td>354.000000</td>\n",
       "      <td>354.000000</td>\n",
       "      <td>354.000000</td>\n",
       "      <td>354.000000</td>\n",
       "      <td>354.000000</td>\n",
       "      <td>354.000000</td>\n",
       "      <td>354.000000</td>\n",
       "      <td>354.000000</td>\n",
       "      <td>354.000000</td>\n",
       "    </tr>\n",
       "    <tr>\n",
       "      <th>mean</th>\n",
       "      <td>177.500000</td>\n",
       "      <td>33.254237</td>\n",
       "      <td>13.039548</td>\n",
       "      <td>7.169492</td>\n",
       "      <td>13.039548</td>\n",
       "      <td>0.000000</td>\n",
       "      <td>0.000000</td>\n",
       "      <td>48.878531</td>\n",
       "      <td>19.929379</td>\n",
       "    </tr>\n",
       "    <tr>\n",
       "      <th>std</th>\n",
       "      <td>102.335233</td>\n",
       "      <td>61.581865</td>\n",
       "      <td>31.468472</td>\n",
       "      <td>13.729255</td>\n",
       "      <td>18.669137</td>\n",
       "      <td>52.566267</td>\n",
       "      <td>52.566267</td>\n",
       "      <td>110.852194</td>\n",
       "      <td>15.115723</td>\n",
       "    </tr>\n",
       "    <tr>\n",
       "      <th>min</th>\n",
       "      <td>1.000000</td>\n",
       "      <td>2.000000</td>\n",
       "      <td>0.000000</td>\n",
       "      <td>0.000000</td>\n",
       "      <td>0.000000</td>\n",
       "      <td>-97.000000</td>\n",
       "      <td>-97.000000</td>\n",
       "      <td>0.000000</td>\n",
       "      <td>0.000000</td>\n",
       "    </tr>\n",
       "    <tr>\n",
       "      <th>25%</th>\n",
       "      <td>89.250000</td>\n",
       "      <td>4.000000</td>\n",
       "      <td>0.000000</td>\n",
       "      <td>0.000000</td>\n",
       "      <td>2.000000</td>\n",
       "      <td>-14.000000</td>\n",
       "      <td>-14.000000</td>\n",
       "      <td>4.000000</td>\n",
       "      <td>7.000000</td>\n",
       "    </tr>\n",
       "    <tr>\n",
       "      <th>50%</th>\n",
       "      <td>177.500000</td>\n",
       "      <td>8.000000</td>\n",
       "      <td>2.000000</td>\n",
       "      <td>2.000000</td>\n",
       "      <td>5.000000</td>\n",
       "      <td>-5.000000</td>\n",
       "      <td>-5.000000</td>\n",
       "      <td>10.000000</td>\n",
       "      <td>14.500000</td>\n",
       "    </tr>\n",
       "    <tr>\n",
       "      <th>75%</th>\n",
       "      <td>265.750000</td>\n",
       "      <td>31.500000</td>\n",
       "      <td>9.000000</td>\n",
       "      <td>6.000000</td>\n",
       "      <td>14.000000</td>\n",
       "      <td>0.000000</td>\n",
       "      <td>0.000000</td>\n",
       "      <td>41.500000</td>\n",
       "      <td>29.000000</td>\n",
       "    </tr>\n",
       "    <tr>\n",
       "      <th>max</th>\n",
       "      <td>354.000000</td>\n",
       "      <td>486.000000</td>\n",
       "      <td>291.000000</td>\n",
       "      <td>85.000000</td>\n",
       "      <td>110.000000</td>\n",
       "      <td>533.000000</td>\n",
       "      <td>533.000000</td>\n",
       "      <td>1076.000000</td>\n",
       "      <td>59.000000</td>\n",
       "    </tr>\n",
       "  </tbody>\n",
       "</table>\n",
       "</div>"
      ],
      "text/plain": [
       "             Rank     Matches        Wins       Draws      Losses  \\\n",
       "count  354.000000  354.000000  354.000000  354.000000  354.000000   \n",
       "mean   177.500000   33.254237   13.039548    7.169492   13.039548   \n",
       "std    102.335233   61.581865   31.468472   13.729255   18.669137   \n",
       "min      1.000000    2.000000    0.000000    0.000000    0.000000   \n",
       "25%     89.250000    4.000000    0.000000    0.000000    2.000000   \n",
       "50%    177.500000    8.000000    2.000000    2.000000    5.000000   \n",
       "75%    265.750000   31.500000    9.000000    6.000000   14.000000   \n",
       "max    354.000000  486.000000  291.000000   85.000000  110.000000   \n",
       "\n",
       "       Goal_Difference      Points  Goals_Scored  Goals_Conceded  \n",
       "count       354.000000  354.000000    354.000000      354.000000  \n",
       "mean          0.000000    0.000000     48.878531       19.929379  \n",
       "std          52.566267   52.566267    110.852194       15.115723  \n",
       "min         -97.000000  -97.000000      0.000000        0.000000  \n",
       "25%         -14.000000  -14.000000      4.000000        7.000000  \n",
       "50%          -5.000000   -5.000000     10.000000       14.500000  \n",
       "75%           0.000000    0.000000     41.500000       29.000000  \n",
       "max         533.000000  533.000000   1076.000000       59.000000  "
      ]
     },
     "execution_count": 25,
     "metadata": {},
     "output_type": "execute_result"
    }
   ],
   "source": [
    "df.describe()"
   ]
  },
  {
   "cell_type": "code",
   "execution_count": 27,
   "metadata": {},
   "outputs": [
    {
     "data": {
      "text/html": [
       "<div>\n",
       "<style scoped>\n",
       "    .dataframe tbody tr th:only-of-type {\n",
       "        vertical-align: middle;\n",
       "    }\n",
       "\n",
       "    .dataframe tbody tr th {\n",
       "        vertical-align: top;\n",
       "    }\n",
       "\n",
       "    .dataframe thead th {\n",
       "        text-align: right;\n",
       "    }\n",
       "</style>\n",
       "<table border=\"1\" class=\"dataframe\">\n",
       "  <thead>\n",
       "    <tr style=\"text-align: right;\">\n",
       "      <th></th>\n",
       "      <th>Season</th>\n",
       "      <th>Country</th>\n",
       "      <th>Winners</th>\n",
       "      <th>Score</th>\n",
       "      <th>Runners-up</th>\n",
       "      <th>Country_RunnersUp</th>\n",
       "      <th>Venue</th>\n",
       "      <th>Attendance</th>\n",
       "      <th>Notes</th>\n",
       "    </tr>\n",
       "  </thead>\n",
       "  <tbody>\n",
       "    <tr>\n",
       "      <th>count</th>\n",
       "      <td>69</td>\n",
       "      <td>69</td>\n",
       "      <td>69</td>\n",
       "      <td>69</td>\n",
       "      <td>69</td>\n",
       "      <td>69</td>\n",
       "      <td>69</td>\n",
       "      <td>69</td>\n",
       "      <td>69</td>\n",
       "    </tr>\n",
       "    <tr>\n",
       "      <th>unique</th>\n",
       "      <td>68</td>\n",
       "      <td>11</td>\n",
       "      <td>23</td>\n",
       "      <td>14</td>\n",
       "      <td>36</td>\n",
       "      <td>14</td>\n",
       "      <td>34</td>\n",
       "      <td>66</td>\n",
       "      <td>4</td>\n",
       "    </tr>\n",
       "    <tr>\n",
       "      <th>top</th>\n",
       "      <td>1973–74</td>\n",
       "      <td>Spain</td>\n",
       "      <td>Real Madrid</td>\n",
       "      <td>1–0</td>\n",
       "      <td>Juventus</td>\n",
       "      <td>Italy</td>\n",
       "      <td>Wembley Stadium, London, England</td>\n",
       "      <td>70,000</td>\n",
       "      <td>Match was won during full time</td>\n",
       "    </tr>\n",
       "    <tr>\n",
       "      <th>freq</th>\n",
       "      <td>2</td>\n",
       "      <td>19</td>\n",
       "      <td>14</td>\n",
       "      <td>19</td>\n",
       "      <td>7</td>\n",
       "      <td>17</td>\n",
       "      <td>7</td>\n",
       "      <td>3</td>\n",
       "      <td>51</td>\n",
       "    </tr>\n",
       "  </tbody>\n",
       "</table>\n",
       "</div>"
      ],
      "text/plain": [
       "         Season Country      Winners Score Runners-up Country_RunnersUp  \\\n",
       "count        69      69           69    69         69                69   \n",
       "unique       68      11           23    14         36                14   \n",
       "top     1973–74   Spain  Real Madrid   1–0   Juventus             Italy   \n",
       "freq          2      19           14    19          7                17   \n",
       "\n",
       "                                   Venue Attendance  \\\n",
       "count                                 69         69   \n",
       "unique                                34         66   \n",
       "top     Wembley Stadium, London, England     70,000   \n",
       "freq                                   7          3   \n",
       "\n",
       "                                 Notes  \n",
       "count                               69  \n",
       "unique                               4  \n",
       "top     Match was won during full time  \n",
       "freq                                51  "
      ]
     },
     "execution_count": 27,
     "metadata": {},
     "output_type": "execute_result"
    }
   ],
   "source": [
    "df2.describe()"
   ]
  },
  {
   "cell_type": "markdown",
   "metadata": {},
   "source": [
    "### Wins by Teams "
   ]
  },
  {
   "cell_type": "code",
   "execution_count": 75,
   "metadata": {},
   "outputs": [
    {
     "data": {
      "image/png": "[encoded data removed]",
      "text/plain": [
       "<Figure size 1000x600 with 1 Axes>"
      ]
     },
     "metadata": {},
     "output_type": "display_data"
    }
   ],
   "source": [
    "import matplotlib.pyplot as plt\n",
    "\n",
    "# Counting occurrences of winners\n",
    "winners_count = df2['Winners'].value_counts()\n",
    "\n",
    "# Plot the top 10 winning teams\n",
    "winners_count.head(10).plot(kind='bar', figsize=(10, 6), color='red')\n",
    "\n",
    "# Adding title and axis labels\n",
    "plt.title('Top 10 Teams by UEFA Champions League Wins (1955 to 2023)', fontsize=14)\n",
    "plt.xlabel('Team', fontsize=12)\n",
    "plt.ylabel('Number of Wins', fontsize=12)\n",
    "\n",
    "# Rotating the x-axis\n",
    "plt.xticks(rotation=45)\n",
    "\n",
    "# Adjusting the layout\n",
    "plt.tight_layout()\n",
    "\n",
    "# Displaying\n",
    "plt.show()"
   ]
  },
  {
   "cell_type": "markdown",
   "metadata": {},
   "source": [
    "### Wins by Countries"
   ]
  },
  {
   "cell_type": "code",
   "execution_count": 77,
   "metadata": {},
   "outputs": [
    {
     "data": {
      "image/png": "[encoded data removed]",
      "text/plain": [
       "<Figure size 1000x600 with 1 Axes>"
      ]
     },
     "metadata": {},
     "output_type": "display_data"
    }
   ],
   "source": [
    "# Counting occurrences of wins by country\n",
    "country_wins = df2['Country'].value_counts()\n",
    "\n",
    "# Plotting the top 10 countries by wins\n",
    "country_wins.head(10).plot(kind='bar', figsize=(10, 6), color='orange')\n",
    "\n",
    "# Adding title and axis labels\n",
    "plt.title('Top 10 Countries by UEFA Champions League Wins (1955 to 2023)', fontsize=14)\n",
    "plt.xlabel('Country', fontsize=12)\n",
    "plt.ylabel('Number of Wins', fontsize=12)\n",
    "\n",
    "# Rotating the x-axis\n",
    "plt.xticks(rotation=45)\n",
    "\n",
    "# Adjusting the layout\n",
    "plt.tight_layout()\n",
    "\n",
    "# Displaying\n",
    "plt.show()"
   ]
  },
  {
   "cell_type": "code",
   "execution_count": null,
   "metadata": {},
   "outputs": [],
   "source": []
  }
 ],
 "metadata": {
  "colab": {
   "provenance": []
  },
  "kernelspec": {
   "display_name": "Python 3 (ipykernel)",
   "language": "python",
   "name": "python3"
  },
  "language_info": {
   "codemirror_mode": {
    "name": "ipython",
    "version": 3
   },
   "file_extension": ".py",
   "mimetype": "text/x-python",
   "name": "python",
   "nbconvert_exporter": "python",
   "pygments_lexer": "ipython3",
   "version": "3.12.4"
  }
 },
 "nbformat": 4,
 "nbformat_minor": 4
}
